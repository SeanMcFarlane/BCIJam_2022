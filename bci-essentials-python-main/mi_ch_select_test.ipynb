{
 "cells": [
  {
   "cell_type": "code",
   "execution_count": 1,
   "metadata": {},
   "outputs": [
    {
     "ename": "NameError",
     "evalue": "name '__file__' is not defined",
     "output_type": "error",
     "traceback": [
      "\u001b[1;31m---------------------------------------------------------------------------\u001b[0m",
      "\u001b[1;31mNameError\u001b[0m                                 Traceback (most recent call last)",
      "\u001b[1;32mc:\\Users\\brian\\Documents\\BCIEssentials\\bci-essentials-python\\mi_ch_select_test.ipynb Cell 1'\u001b[0m in \u001b[0;36m<cell line: 10>\u001b[1;34m()\u001b[0m\n\u001b[0;32m      <a href='vscode-notebook-cell:/c%3A/Users/brian/Documents/BCIEssentials/bci-essentials-python/mi_ch_select_test.ipynb#ch0000000?line=6'>7</a>\u001b[0m \u001b[39mimport\u001b[39;00m \u001b[39msys\u001b[39;00m\n\u001b[0;32m      <a href='vscode-notebook-cell:/c%3A/Users/brian/Documents/BCIEssentials/bci-essentials-python/mi_ch_select_test.ipynb#ch0000000?line=8'>9</a>\u001b[0m \u001b[39m# Add parent directory to path to access bci_essentials\u001b[39;00m\n\u001b[1;32m---> <a href='vscode-notebook-cell:/c%3A/Users/brian/Documents/BCIEssentials/bci-essentials-python/mi_ch_select_test.ipynb#ch0000000?line=9'>10</a>\u001b[0m sys\u001b[39m.\u001b[39mpath\u001b[39m.\u001b[39mappend(os\u001b[39m.\u001b[39mpath\u001b[39m.\u001b[39mjoin(os\u001b[39m.\u001b[39mpath\u001b[39m.\u001b[39mdirname(os\u001b[39m.\u001b[39mpath\u001b[39m.\u001b[39mabspath(\u001b[39m__file__\u001b[39;49m)),os\u001b[39m.\u001b[39mpardir))\n\u001b[0;32m     <a href='vscode-notebook-cell:/c%3A/Users/brian/Documents/BCIEssentials/bci-essentials-python/mi_ch_select_test.ipynb#ch0000000?line=11'>12</a>\u001b[0m \u001b[39m# from src.bci_data import *\u001b[39;00m\n\u001b[0;32m     <a href='vscode-notebook-cell:/c%3A/Users/brian/Documents/BCIEssentials/bci-essentials-python/mi_ch_select_test.ipynb#ch0000000?line=12'>13</a>\u001b[0m \u001b[39mfrom\u001b[39;00m \u001b[39mbci_essentials\u001b[39;00m\u001b[39m.\u001b[39;00m\u001b[39mbci_data\u001b[39;00m \u001b[39mimport\u001b[39;00m \u001b[39m*\u001b[39m\n",
      "\u001b[1;31mNameError\u001b[0m: name '__file__' is not defined"
     ]
    }
   ],
   "source": [
    "\"\"\"\n",
    "Test Motor Imagery (MI) classification offline using data from an existing stream\n",
    "\n",
    "\"\"\"\n",
    "\n",
    "import os\n",
    "import sys\n",
    "\n",
    "# Add parent directory to path to access bci_essentials\n",
    "sys.path.append(os.path.join(os.path.dirname(os.path.abspath(__file__)),os.pardir))\n",
    "\n",
    "# from src.bci_data import *\n",
    "from bci_essentials.bci_data import *\n",
    "from bci_essentials.visuals import *\n",
    "\n",
    "# Initialize data object\n",
    "test_mi = EEG_data()\n",
    "\n",
    "# Select a classifier\n",
    "test_mi.classifier = mi_classifier() # you can add a subset here\n",
    "\n",
    "# Define the classifier settings\n",
    "test_mi.classifier.set_mi_classifier_settings(n_splits=5, type=\"TS\", random_seed=35, channel_selection=\"riemann\")\n",
    "\n",
    "# Load the xdf\n",
    "test_mi.load_offline_eeg_data(filename  = \"examples/data/mi_example_2.xdf\", print_output=False) # you can also add a subset here\n",
    "\n",
    "# Run main loop, this will do all of the classification for online or offline\n",
    "test_mi.main(online=False, training=True, pp_low=5, pp_high=50, pp_order=5, print_markers=False, print_training=False, print_fit=False, print_performance=True, print_predict=False)\n",
    "\n",
    "\n",
    "print(\"debug\")"
   ]
  }
 ],
 "metadata": {
  "kernelspec": {
   "display_name": "Python 3.8.13 ('debug')",
   "language": "python",
   "name": "python3"
  },
  "language_info": {
   "codemirror_mode": {
    "name": "ipython",
    "version": 3
   },
   "file_extension": ".py",
   "mimetype": "text/x-python",
   "name": "python",
   "nbconvert_exporter": "python",
   "pygments_lexer": "ipython3",
   "version": "3.8.13"
  },
  "orig_nbformat": 4,
  "vscode": {
   "interpreter": {
    "hash": "338f4081bdce64ad6d5af6316256895c3a8e2dc9b816898522635d8c0daa284e"
   }
  }
 },
 "nbformat": 4,
 "nbformat_minor": 2
}
