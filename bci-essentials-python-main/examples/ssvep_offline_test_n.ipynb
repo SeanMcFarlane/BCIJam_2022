{
 "cells": [
  {
   "cell_type": "code",
   "execution_count": 1,
   "metadata": {},
   "outputs": [
    {
     "ename": "NameError",
     "evalue": "name '__file__' is not defined",
     "output_type": "error",
     "traceback": [
      "\u001b[1;31m---------------------------------------------------------------------------\u001b[0m",
      "\u001b[1;31mNameError\u001b[0m                                 Traceback (most recent call last)",
      "Cell \u001b[1;32mIn [1], line 9\u001b[0m\n\u001b[0;32m      5\u001b[0m \u001b[39mimport\u001b[39;00m \u001b[39msys\u001b[39;00m\n\u001b[0;32m      8\u001b[0m \u001b[39m# Add parent directory to path to access bci_essentials\u001b[39;00m\n\u001b[1;32m----> 9\u001b[0m sys\u001b[39m.\u001b[39mpath\u001b[39m.\u001b[39mappend(os\u001b[39m.\u001b[39mpath\u001b[39m.\u001b[39mjoin(os\u001b[39m.\u001b[39mpath\u001b[39m.\u001b[39mdirname(os\u001b[39m.\u001b[39mpath\u001b[39m.\u001b[39mabspath(\u001b[39m__file__\u001b[39;49m)),os\u001b[39m.\u001b[39mpardir))\n\u001b[0;32m     12\u001b[0m \u001b[39m# # from src.bci_data import *\u001b[39;00m\n\u001b[0;32m     13\u001b[0m \u001b[39mfrom\u001b[39;00m \u001b[39mbci_essentials\u001b[39;00m\u001b[39m.\u001b[39;00m\u001b[39mbci_data\u001b[39;00m \u001b[39mimport\u001b[39;00m \u001b[39m*\u001b[39m\n",
      "\u001b[1;31mNameError\u001b[0m: name '__file__' is not defined"
     ]
    }
   ],
   "source": [
    "# This is a script to test the functionality of python SSVEP processing\n",
    "# Written by Brian Irvine on 08/05/2021\n",
    "\n",
    "import os\n",
    "import sys\n",
    "\n",
    "\n",
    "# Add parent directory to path to access bci_essentials\n",
    "sys.path.append(os.path.join(os.path.dirname(os.path.abspath(__file__)),os.pardir))\n",
    "\n",
    "\n",
    "# # from src.bci_data import *\n",
    "from bci_essentials.bci_data import *\n",
    "\n",
    "# import\n",
    "import matplotlib.pyplot as plt"
   ]
  },
  {
   "cell_type": "code",
   "execution_count": null,
   "metadata": {},
   "outputs": [],
   "source": [
    "# Initialize the SSVEP\n",
    "# should try to automate the reading of some of this stuff from the file header\n",
    "test_ssvep = EEG_data()\n",
    "\n",
    "# Load from xdf into erp_data format\n",
    "test_ssvep.load_offline_eeg_data(filename = \"examples/data/ssvep_example.xdf\", format='xdf')\n",
    "\n",
    "# Define the classifier\n",
    "\n",
    "test_ssvep.classifier = ssvep_basic_classifier(subset=[])\n",
    "\n",
    "# \n",
    "# target_freqs = [9, 9.6, 10.28, 11.07, 12, 13.09, 14.4]\n",
    "# TODO add the frequencies from the marker string to target freqs\n",
    "\n",
    "#test_ssvep.classifier.set_ssvep_settings(sampling_freq = 300, target_freqs = target_freqs)\n",
    "\n",
    "test_ssvep.classifier.set_ssvep_settings(n_splits=3, sampling_freq=300, random_seed=42, clf_type=\"Random Forest\")\n",
    "\n"
   ]
  },
  {
   "cell_type": "code",
   "execution_count": null,
   "metadata": {},
   "outputs": [],
   "source": [
    "test_ssvep.main(online=False, training=True, max_samples=5120)\n",
    "\n",
    "print(\"debug\")\n"
   ]
  }
 ],
 "metadata": {
  "kernelspec": {
   "display_name": "Python 3.8.13 ('debug')",
   "language": "python",
   "name": "python3"
  },
  "language_info": {
   "codemirror_mode": {
    "name": "ipython",
    "version": 3
   },
   "file_extension": ".py",
   "mimetype": "text/x-python",
   "name": "python",
   "nbconvert_exporter": "python",
   "pygments_lexer": "ipython3",
   "version": "3.8.13"
  },
  "orig_nbformat": 4,
  "vscode": {
   "interpreter": {
    "hash": "338f4081bdce64ad6d5af6316256895c3a8e2dc9b816898522635d8c0daa284e"
   }
  }
 },
 "nbformat": 4,
 "nbformat_minor": 2
}
